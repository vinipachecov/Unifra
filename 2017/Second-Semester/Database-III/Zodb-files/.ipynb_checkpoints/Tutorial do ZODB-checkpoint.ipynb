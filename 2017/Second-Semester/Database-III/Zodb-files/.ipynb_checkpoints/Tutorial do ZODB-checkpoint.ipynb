{
 "cells": [
  {
   "cell_type": "markdown",
   "metadata": {},
   "source": [
    "# Tutorial de exemplo ZODB - Python 2.7.13"
   ]
  },
  {
   "cell_type": "code",
   "execution_count": 1,
   "metadata": {},
   "outputs": [],
   "source": [
    "from ZODB import FileStorage, DB"
   ]
  },
  {
   "cell_type": "code",
   "execution_count": 2,
   "metadata": {},
   "outputs": [],
   "source": [
    "#Criando ou chamando o arquivo 'meusdados.fs' como um sistema de arquivos para a variavel storage\n",
    "\n",
    "storage = FileStorage.FileStorage('meusdados.fs')"
   ]
  },
  {
   "cell_type": "code",
   "execution_count": 3,
   "metadata": {},
   "outputs": [],
   "source": [
    "#Criando um banco de dados que utiliza o storage\n",
    "\n",
    "db = DB(storage=storage)"
   ]
  },
  {
   "cell_type": "markdown",
   "metadata": {},
   "source": [
    "É aberta uma conexão com o banco de dados pelo metodo open(). O retorno será um objeto do tipo connection para o banco de dados. \n",
    "Esse objeto lhe dará acesso 'root' se usada a função root()"
   ]
  },
  {
   "cell_type": "code",
   "execution_count": 4,
   "metadata": {},
   "outputs": [],
   "source": [
    "\n",
    "connection = db.open()"
   ]
  },
  {
   "cell_type": "code",
   "execution_count": 5,
   "metadata": {},
   "outputs": [],
   "source": [
    "root = connection.root()"
   ]
  },
  {
   "cell_type": "markdown",
   "metadata": {},
   "source": [
    "O objeto Root é um dicionário ( como se fosse um set do java - um par chave : valor - que terá todas as persistências dos seus objetos. Como um exemplo, você pode armazenar listas de strings no objeto root:"
   ]
  },
  {
   "cell_type": "code",
   "execution_count": 7,
   "metadata": {},
   "outputs": [],
   "source": [
    "#root['alunos'] = ['Vinicius', 'Lucas','Alex']\n",
    "root['pedidos'] = ['1', '2', '3']"
   ]
  },
  {
   "cell_type": "markdown",
   "metadata": {},
   "source": [
    "Com essa inserção, temos apenas uma mudança temporária. Para torná-la permanente devemos commitar a transação atual:"
   ]
  },
  {
   "cell_type": "code",
   "execution_count": 13,
   "metadata": {},
   "outputs": [],
   "source": [
    "import transaction"
   ]
  },
  {
   "cell_type": "code",
   "execution_count": 14,
   "metadata": {},
   "outputs": [],
   "source": [
    "transaction.commit()"
   ]
  },
  {
   "cell_type": "markdown",
   "metadata": {},
   "source": [
    "# Sobre transações\n",
    "\n",
    "É possível compreender transações como 'checkpoints' onde se salva as alterações feitas nos objetos até o momento. Vamos agora descobrir se nossos dados foram salvos. Primeiro vamos fechar a conexão com o banco de dados."
   ]
  },
  {
   "cell_type": "code",
   "execution_count": 10,
   "metadata": {},
   "outputs": [],
   "source": [
    "connection.close()"
   ]
  },
  {
   "cell_type": "markdown",
   "metadata": {},
   "source": [
    "Reinicie o Kernel do Python. Faça os imports novamente. Vamos agora reabrir a conexão com o banco de dados que nós criamos "
   ]
  },
  {
   "cell_type": "code",
   "execution_count": 2,
   "metadata": {},
   "outputs": [],
   "source": [
    "storage = FileStorage.FileStorage('meusdados.fs')"
   ]
  },
  {
   "cell_type": "code",
   "execution_count": 3,
   "metadata": {},
   "outputs": [],
   "source": [
    "db = DB(storage)"
   ]
  },
  {
   "cell_type": "code",
   "execution_count": 4,
   "metadata": {},
   "outputs": [],
   "source": [
    "connection = db.open()"
   ]
  },
  {
   "cell_type": "code",
   "execution_count": 5,
   "metadata": {},
   "outputs": [],
   "source": [
    "root = connection.root()"
   ]
  },
  {
   "cell_type": "markdown",
   "metadata": {},
   "source": [
    "Agora podemos ver o que está armazenado no root:"
   ]
  },
  {
   "cell_type": "code",
   "execution_count": 6,
   "metadata": {},
   "outputs": [
    {
     "data": {
      "text/plain": [
       "[('alunos', ['Vinicius', 'Lucas', 'Alex']),\n",
       " ('accounts', <BTrees.OOBTree.OOBTree at 0x7f807aebcb00>),\n",
       " ('pedidos', ['1', '2', '3'])]"
      ]
     },
     "execution_count": 6,
     "metadata": {},
     "output_type": "execute_result"
    }
   ],
   "source": [
    "root.items()"
   ]
  },
  {
   "cell_type": "markdown",
   "metadata": {},
   "source": [
    "\n",
    "Ali está nossa lista de alunos. Se tivessemos usado um banco relacional, nós teríamos que fazer uma query SQL para salvar até mesmo um exemplo simples como esse. \n",
    "Seria necessário que um código Python que convertesse o SQL de volta na lista quando você tivesse interesse de usá-la. \n",
    "Nesse sentido não é preciso fazer nada parecido quando usamos o ZODB. O uso do ZODB é quase totalmente transparente, de fato, programas baseados em ZODB funcionam de forma muito simples."
   ]
  },
  {
   "cell_type": "markdown",
   "metadata": {},
   "source": [
    "# Detectando Mudanças"
   ]
  },
  {
   "cell_type": "markdown",
   "metadata": {},
   "source": [
    "No ZODB não precisamos manter os olhos atentos para as mudanças nas variáveis e seus estados. Tudo que precisamos é fazer as mudanças na persistencia dos objetos e fazer o commit da transação. Tudo que for alterado será armazenado no banco.\n",
    "\n",
    "A única exceção para essa regra é quando se trata de itens mutáveis do Python como listas e dicionários. Se você alterar uma lista ou dicionário que já está no banco, nesse caso a mudança não terá efeito. Por exemplo:"
   ]
  },
  {
   "cell_type": "code",
   "execution_count": 7,
   "metadata": {},
   "outputs": [],
   "source": [
    "root['alunos'].append('Cleber')"
   ]
  },
  {
   "cell_type": "code",
   "execution_count": 8,
   "metadata": {},
   "outputs": [
    {
     "ename": "NameError",
     "evalue": "name 'transaction' is not defined",
     "output_type": "error",
     "traceback": [
      "\u001b[0;31m---------------------------------------------------------------------------\u001b[0m",
      "\u001b[0;31mNameError\u001b[0m                                 Traceback (most recent call last)",
      "\u001b[0;32m<ipython-input-8-29d859816188>\u001b[0m in \u001b[0;36m<module>\u001b[0;34m()\u001b[0m\n\u001b[0;32m----> 1\u001b[0;31m \u001b[0mtransaction\u001b[0m\u001b[0;34m.\u001b[0m\u001b[0mcommit\u001b[0m\u001b[0;34m(\u001b[0m\u001b[0;34m)\u001b[0m\u001b[0;34m\u001b[0m\u001b[0m\n\u001b[0m",
      "\u001b[0;31mNameError\u001b[0m: name 'transaction' is not defined"
     ]
    }
   ],
   "source": [
    "transaction.commit()"
   ]
  },
  {
   "cell_type": "markdown",
   "metadata": {},
   "source": [
    "Normalmente se espearria que isso funcionasse, mas não funciona. A razão é que o ZODB não detecta que a lista 'alunos' alterou. A lista 'alunos' é um objeto mutável que não notifica o ZODB quando sofre alterações.\n",
    "\n",
    "Existe algumas maneiras de contornar esse problema. Um dos jeitos é reatribuir o objeto alterado:"
   ]
  },
  {
   "cell_type": "code",
   "execution_count": 9,
   "metadata": {},
   "outputs": [],
   "source": [
    "l_alunos = root['alunos']"
   ]
  },
  {
   "cell_type": "code",
   "execution_count": 10,
   "metadata": {},
   "outputs": [],
   "source": [
    "l_alunos.append('Cleber')"
   ]
  },
  {
   "cell_type": "code",
   "execution_count": 11,
   "metadata": {},
   "outputs": [],
   "source": [
    "root['alunos'] = l_alunos"
   ]
  },
  {
   "cell_type": "code",
   "execution_count": 12,
   "metadata": {},
   "outputs": [
    {
     "ename": "NameError",
     "evalue": "name 'transaction' is not defined",
     "output_type": "error",
     "traceback": [
      "\u001b[0;31m---------------------------------------------------------------------------\u001b[0m",
      "\u001b[0;31mNameError\u001b[0m                                 Traceback (most recent call last)",
      "\u001b[0;32m<ipython-input-12-29d859816188>\u001b[0m in \u001b[0;36m<module>\u001b[0;34m()\u001b[0m\n\u001b[0;32m----> 1\u001b[0;31m \u001b[0mtransaction\u001b[0m\u001b[0;34m.\u001b[0m\u001b[0mcommit\u001b[0m\u001b[0;34m(\u001b[0m\u001b[0;34m)\u001b[0m\u001b[0;34m\u001b[0m\u001b[0m\n\u001b[0m",
      "\u001b[0;31mNameError\u001b[0m: name 'transaction' is not defined"
     ]
    }
   ],
   "source": [
    "transaction.commit()"
   ]
  },
  {
   "cell_type": "markdown",
   "metadata": {},
   "source": [
    "Aqui movemos a lista de alunos para uma variável local, alteramos a lista e somente então reatribuímos devolta para o banco de dados e comitamos a transação. Esssa reatribuição notifica o bnaco de dados de que a lista mudou e que precisa ser salva no banco de dados."
   ]
  },
  {
   "cell_type": "markdown",
   "metadata": {},
   "source": [
    "# Usando classes - Persistent Classes\n",
    "\n",
    "A forma mais fácil de criar objetos mutáveis que notificam o ZODB de mudanças é criar uma classe persistente. Classes persistentes permitem que você armazene o seu próprio tipo de objetos dentro do banco. Por exemplo, vamos considerar a classe aluno:"
   ]
  },
  {
   "cell_type": "code",
   "execution_count": 15,
   "metadata": {},
   "outputs": [],
   "source": [
    "import persistent"
   ]
  },
  {
   "cell_type": "code",
   "execution_count": 16,
   "metadata": {},
   "outputs": [],
   "source": [
    "class Aluno(persistent.Persistent):\n",
    "    \n",
    "    def setName(self,name):\n",
    "        self.name = name        "
   ]
  },
  {
   "cell_type": "markdown",
   "metadata": {},
   "source": [
    "Para criar uma classe persistente, basta adicionar a herança da classe persistent.Persistent. Agora podemos por objetos alunos no banco de dados:"
   ]
  },
  {
   "cell_type": "code",
   "execution_count": 17,
   "metadata": {},
   "outputs": [],
   "source": [
    "alunos = []"
   ]
  },
  {
   "cell_type": "code",
   "execution_count": 18,
   "metadata": {},
   "outputs": [],
   "source": [
    "for name in ['Renato', 'Maria', 'Douglas']:\n",
    "    aluno = Aluno()\n",
    "    aluno.setName(name)\n",
    "    alunos.append(aluno)    "
   ]
  },
  {
   "cell_type": "code",
   "execution_count": 19,
   "metadata": {},
   "outputs": [
    {
     "name": "stdout",
     "output_type": "stream",
     "text": [
      "Renato\n",
      "Maria\n",
      "Douglas\n"
     ]
    }
   ],
   "source": [
    "alunos\n",
    "for aluno in alunos:\n",
    "    print aluno.name"
   ]
  },
  {
   "cell_type": "code",
   "execution_count": 20,
   "metadata": {},
   "outputs": [],
   "source": [
    "root['alunos'] = alunos"
   ]
  },
  {
   "cell_type": "code",
   "execution_count": 21,
   "metadata": {},
   "outputs": [],
   "source": [
    "transaction.commit()"
   ]
  },
  {
   "cell_type": "code",
   "execution_count": 23,
   "metadata": {},
   "outputs": [
    {
     "name": "stdout",
     "output_type": "stream",
     "text": [
      "Renato\n",
      "Maria\n",
      "Douglas\n"
     ]
    }
   ],
   "source": [
    "for aluno in root['alunos']:\n",
    "    print aluno.name"
   ]
  },
  {
   "cell_type": "markdown",
   "metadata": {},
   "source": [
    "Não esquecer de chamar commit(), e então as mudanças que foram feitas até aquele momento sejam enviadas para o banco de dados, e então uma nova transação começa.\n",
    "Com a nova estrutura, agora podemos fazer mudanças na lista alunos salva no banco. Por exemplo, vamos mudar o nome de Renato para Vinícius:"
   ]
  },
  {
   "cell_type": "code",
   "execution_count": 24,
   "metadata": {},
   "outputs": [],
   "source": [
    "renato = root['alunos'][0]"
   ]
  },
  {
   "cell_type": "code",
   "execution_count": 25,
   "metadata": {},
   "outputs": [
    {
     "data": {
      "text/plain": [
       "'Renato'"
      ]
     },
     "execution_count": 25,
     "metadata": {},
     "output_type": "execute_result"
    }
   ],
   "source": [
    "renato.name"
   ]
  },
  {
   "cell_type": "code",
   "execution_count": 26,
   "metadata": {},
   "outputs": [],
   "source": [
    "renato.setName('Vinicius')"
   ]
  },
  {
   "cell_type": "code",
   "execution_count": 27,
   "metadata": {},
   "outputs": [],
   "source": [
    "transaction.commit()"
   ]
  },
  {
   "cell_type": "code",
   "execution_count": 28,
   "metadata": {},
   "outputs": [],
   "source": [
    "l_alunos = root['alunos']"
   ]
  },
  {
   "cell_type": "code",
   "execution_count": 29,
   "metadata": {},
   "outputs": [
    {
     "name": "stdout",
     "output_type": "stream",
     "text": [
      "Vinicius\n",
      "Maria\n",
      "Douglas\n"
     ]
    }
   ],
   "source": [
    "for aluno in alunos:\n",
    "    print aluno.name"
   ]
  },
  {
   "cell_type": "markdown",
   "metadata": {},
   "source": [
    "Como podemos ver a alteração foi feita!"
   ]
  },
  {
   "cell_type": "code",
   "execution_count": null,
   "metadata": {},
   "outputs": [],
   "source": []
  }
 ],
 "metadata": {
  "kernelspec": {
   "display_name": "Python 2",
   "language": "python",
   "name": "python2"
  },
  "language_info": {
   "codemirror_mode": {
    "name": "ipython",
    "version": 2
   },
   "file_extension": ".py",
   "mimetype": "text/x-python",
   "name": "python",
   "nbconvert_exporter": "python",
   "pygments_lexer": "ipython2",
   "version": "2.7.13"
  }
 },
 "nbformat": 4,
 "nbformat_minor": 2
}
